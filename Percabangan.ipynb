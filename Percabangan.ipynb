{
 "cells": [
  {
   "cell_type": "markdown",
   "id": "a52d3380",
   "metadata": {},
   "source": [
    "Percabangan"
   ]
  },
  {
   "cell_type": "code",
   "execution_count": 1,
   "id": "752f2a42",
   "metadata": {},
   "outputs": [
    {
     "name": "stdout",
     "output_type": "stream",
     "text": [
      "Isikan Nilai:8\n",
      "8 adalah bilangan genap\n",
      "Program Selesai\n"
     ]
    }
   ],
   "source": [
    "#Menentukan ganjil genap\n",
    "nilai = int(input('Isikan Nilai:'))\n",
    "sisa_bagi = nilai % 2\n",
    "\n",
    "if sisa_bagi==0:\n",
    "    print(f'{nilai} adalah bilangan genap')\n",
    "else:\n",
    "    print(f'{nilai} adalah bilangan ganjil')\n",
    "print('Program Selesai')"
   ]
  },
  {
   "cell_type": "code",
   "execution_count": 2,
   "id": "d6e06b62",
   "metadata": {},
   "outputs": [
    {
     "name": "stdout",
     "output_type": "stream",
     "text": [
      "Isikan Nilai:70\n",
      "B \n"
     ]
    }
   ],
   "source": [
    "nilai = int(input('Isikan Nilai:'))\n",
    "if nilai < 0 or nilai >100:\n",
    "    print('Nilai Anda Salah')\n",
    "else:\n",
    "    if nilai <50:\n",
    "        print('E ')\n",
    "    elif nilai <60:\n",
    "        print('D ')\n",
    "    elif nilai <70:\n",
    "        print('C ')\n",
    "    elif nilai <85:\n",
    "        print('B ')\n",
    "    elif nilai <=100:\n",
    "        print('A ')\n"
   ]
  },
  {
   "cell_type": "markdown",
   "id": "0bc62d2f",
   "metadata": {},
   "source": [
    "Program login username"
   ]
  },
  {
   "cell_type": "code",
   "execution_count": 3,
   "id": "21ffee9d",
   "metadata": {},
   "outputs": [
    {
     "name": "stdout",
     "output_type": "stream",
     "text": [
      "Isikan Username: admin\n",
      "Isikan Password: admin\n",
      "Selamat Datang admin\n"
     ]
    }
   ],
   "source": [
    "username = input('Isikan Username: ')\n",
    "password = input('Isikan Password: ')\n",
    "if username == 'admin':\n",
    "    if password == 'admin':\n",
    "        print(f'Selamat Datang {username}')\n",
    "    else :\n",
    "        print(f'Password Anda Salah')\n",
    "    \n",
    "else:\n",
    "    if password =='admin':\n",
    "        print('Username anda salah')\n",
    "    else:\n",
    "        print('Username & Password anda salah')"
   ]
  },
  {
   "cell_type": "markdown",
   "id": "a9e74341",
   "metadata": {},
   "source": [
    "Soal 1"
   ]
  },
  {
   "cell_type": "code",
   "execution_count": 20,
   "id": "36b0285c",
   "metadata": {},
   "outputs": [
    {
     "name": "stdout",
     "output_type": "stream",
     "text": [
      "Isikan Nama: farhan\n",
      "Isikan Umur: 50\n",
      "Isikan Tempat Tinggal: Havana\n",
      "Isikan Tabungan: 15000\n",
      "farhan Kemungkinan adalah seorang anggota mafia dengan pangkat Don\n"
     ]
    }
   ],
   "source": [
    "nama = input('Isikan Nama: ')\n",
    "umur = int(input('Isikan Umur: '))\n",
    "tempat_tinggal = input('Isikan Tempat Tinggal: ')\n",
    "tabungan = int(input('Isikan Tabungan: '))\n",
    "pangkat = ''\n",
    "if umur >40: \n",
    "    if tempat_tinggal=='New York' or tempat_tinggal== 'Nevada' or tempat_tinggal=='Havana':\n",
    "        if tabungan > 10.000:\n",
    "            pangkat = 'Don'\n",
    "elif 25 <= umur <=40:\n",
    "    if tempat_tinggal=='New Jersey' or tempat_tinggal== 'Manhattan' or tempat_tinggal=='Nevada':\n",
    "        if tabungan >=1.000 and tabungan <=2.000:\n",
    "            pangkat = 'Underboss'\n",
    "elif 18<= umur <=24:\n",
    "    if tempat_tinggal=='California' or tempat_tinggal== 'Detroit' or tempat_tinggal=='Boston':\n",
    "        if tabungan < 1.000 :\n",
    "            pangkat = 'Capo'\n",
    "\n",
    "if pangkat!='':\n",
    "    print(f'{nama} Kemungkinan adalah seorang anggota mafia dengan pangkat {pangkat}')\n",
    "else:\n",
    "    print(f'{nama} Tidak mencurigakan')\n",
    "    "
   ]
  },
  {
   "cell_type": "markdown",
   "id": "1ef8d953",
   "metadata": {},
   "source": [
    "Soal 2"
   ]
  },
  {
   "cell_type": "code",
   "execution_count": 21,
   "id": "275cea96",
   "metadata": {
    "scrolled": true
   },
   "outputs": [
    {
     "name": "stdout",
     "output_type": "stream",
     "text": [
      "Isikan Nama: sss\n",
      "Isikan Umur: 41\n",
      "Isikan Tempat Tinggal: nevada\n",
      "Isikan Tabungan: 11000\n",
      "sss Tidak mencurigakan\n"
     ]
    }
   ],
   "source": []
  },
  {
   "cell_type": "code",
   "execution_count": null,
   "id": "504e5041",
   "metadata": {},
   "outputs": [],
   "source": []
  }
 ],
 "metadata": {
  "kernelspec": {
   "display_name": "Python 3 (ipykernel)",
   "language": "python",
   "name": "python3"
  },
  "language_info": {
   "codemirror_mode": {
    "name": "ipython",
    "version": 3
   },
   "file_extension": ".py",
   "mimetype": "text/x-python",
   "name": "python",
   "nbconvert_exporter": "python",
   "pygments_lexer": "ipython3",
   "version": "3.9.12"
  }
 },
 "nbformat": 4,
 "nbformat_minor": 5
}
